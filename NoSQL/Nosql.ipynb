{
 "cells": [
  {
   "cell_type": "code",
   "execution_count": 1,
   "id": "c9c7abb7-5c47-4fb5-9cec-d1566041cadf",
   "metadata": {},
   "outputs": [
    {
     "name": "stdout",
     "output_type": "stream",
     "text": [
      "Requirement already satisfied: pymongo in c:\\users\\dell\\anaconda3\\lib\\site-packages (4.10.1)\n",
      "Requirement already satisfied: dnspython<3.0.0,>=1.16.0 in c:\\users\\dell\\anaconda3\\lib\\site-packages (from pymongo) (2.7.0)\n",
      "Note: you may need to restart the kernel to use updated packages.\n"
     ]
    }
   ],
   "source": [
    "pip install pymongo"
   ]
  },
  {
   "cell_type": "code",
   "execution_count": 3,
   "id": "d9b31ca4-4522-4f48-b660-f579f418155e",
   "metadata": {},
   "outputs": [],
   "source": [
    "from pymongo import MongoClient\n",
    "# Connect to MongoDB\n",
    "client = MongoClient(\"mongodb://localhost:27017/\")\n",
    "db = client[\"DMAProject\"]"
   ]
  },
  {
   "cell_type": "code",
   "execution_count": 5,
   "id": "d31d7c4f-ee64-4516-87ec-c3e7f9236734",
   "metadata": {},
   "outputs": [
    {
     "name": "stdout",
     "output_type": "stream",
     "text": [
      "['Employee', 'Vehicle', 'PurchaseOrder', 'Spares', 'Product', 'Insurance', 'Customer', 'Maintenance', 'RawMaterialSupplier', 'Inventory', 'Machinery', 'Delivery', 'Warehouse', 'EmployeeVehicle']\n"
     ]
    }
   ],
   "source": [
    "# Create or access a collection\n",
    "collection = db['DMAProject']\n",
    "# List all collections in the database\n",
    "print(db.list_collection_names())"
   ]
  },
  {
   "cell_type": "code",
   "execution_count": 7,
   "id": "ef0060a6-f2dc-4e23-b7e6-52ea9e8d4da3",
   "metadata": {},
   "outputs": [
    {
     "name": "stdout",
     "output_type": "stream",
     "text": [
      "{'_id': ObjectId('67464e549702a9cd8601307f'), 'InventoryId': '29 eq', 'Address': '7047 Nolan Village', 'Type': 'Owned', 'LastUpdated': '2020-04-16'}\n",
      "{'_id': ObjectId('67464e549702a9cd86013082'), 'InventoryId': '38 wo', 'Address': '1491 Bobbie Island Apt. 724', 'Type': 'Owned', 'LastUpdated': '2023-10-19'}\n",
      "{'_id': ObjectId('67464e549702a9cd86013084'), 'InventoryId': '41 ft', 'Address': '67396 Nettie Knolls Apt. 701', 'Type': 'Owned', 'LastUpdated': '2021-06-01'}\n",
      "{'_id': ObjectId('67464e549702a9cd8601308b'), 'InventoryId': '92 ja', 'Address': '1695 Lebsack Island', 'Type': 'Owned', 'LastUpdated': '2024-03-29'}\n",
      "{'_id': ObjectId('67464e549702a9cd8601308e'), 'InventoryId': '99 oh', 'Address': '4880 Magnolia Flat', 'Type': 'Owned', 'LastUpdated': '2022-06-05'}\n"
     ]
    }
   ],
   "source": [
    "result1 = db.Inventory.find({ \"Type\": \"Owned\" });\n",
    "for doc in result1:\n",
    "    print(doc)\n"
   ]
  },
  {
   "cell_type": "code",
   "execution_count": 9,
   "id": "66eaed7f-661e-49f5-a3db-24cc52cba7f2",
   "metadata": {},
   "outputs": [
    {
     "name": "stdout",
     "output_type": "stream",
     "text": [
      "{'_id': ObjectId('67464e549702a9cd8601306f'), 'WarehouseID': '81 ik', 'Capacity': 45541, 'CurrentStock': 9309, 'Location': '8998 Destin Dale\\nHailieville, IL 15791', 'Warehouse_productID': '701-Msand'}\n",
      "{'_id': ObjectId('67464e549702a9cd86013070'), 'WarehouseID': '47 iz', 'Capacity': 33937, 'CurrentStock': 9892, 'Location': '57100 Ervin Pike\\nPort Mollyville, MI 81246', 'Warehouse_productID': '708-Msand'}\n",
      "{'_id': ObjectId('67464e549702a9cd86013071'), 'WarehouseID': '29 cg', 'Capacity': 71039, 'CurrentStock': 7523, 'Location': '489 Bernhard Village\\nAdalinefurt, VT 59571', 'Warehouse_productID': '801-Psand'}\n"
     ]
    }
   ],
   "source": [
    "result2 = db.Warehouse.find({\"Warehouse_productID\": {\"$regex\": \"sand\", \"$options\": \"i\"}})\n",
    "for doc in result2:\n",
    "    print(doc)"
   ]
  },
  {
   "cell_type": "code",
   "execution_count": 11,
   "id": "703a7f85-f98c-49a8-850e-91851eaaf55c",
   "metadata": {},
   "outputs": [
    {
     "name": "stdout",
     "output_type": "stream",
     "text": [
      "{'_id': ObjectId('67464e549702a9cd86013194'), 'MachineryID': 41, 'Type': 'Impact crushers', 'PurchaseDate': '2024-09-11', 'InsuranceID': 67, 'Employee_Incharge': 9223}\n",
      "{'_id': ObjectId('67464e549702a9cd86013195'), 'MachineryID': 42, 'Type': 'Classifier', 'PurchaseDate': '2024-08-09', 'InsuranceID': 74, 'Employee_Incharge': 6291}\n"
     ]
    }
   ],
   "source": [
    "result3 = db.Machinery.find({\"PurchaseDate\" : {\"$gt\": \"2024-03-01\"} })\n",
    "for doc in result3:\n",
    "    print(doc)"
   ]
  },
  {
   "cell_type": "code",
   "execution_count": 13,
   "id": "94bbc0a9-c981-4f61-96fb-b14822bfb409",
   "metadata": {},
   "outputs": [
    {
     "name": "stdout",
     "output_type": "stream",
     "text": [
      "{'_id': 'Dynamic', 'count': 8}\n",
      "{'_id': 'Moving', 'count': 18}\n",
      "{'_id': 'Fixed', 'count': 24}\n"
     ]
    }
   ],
   "source": [
    "result4 = db.Spares.aggregate([{\"$group\": {\"_id\": \"$Type\", \"count\": {\"$sum\": 1}}}])\n",
    "for doc in result4:\n",
    "    print(doc)"
   ]
  },
  {
   "cell_type": "code",
   "execution_count": 15,
   "id": "f4aec78f-3a71-40fa-918b-6ad6b27dae35",
   "metadata": {},
   "outputs": [
    {
     "name": "stdout",
     "output_type": "stream",
     "text": [
      "{'_id': 'null', 'TotalDue': 2484509}\n"
     ]
    }
   ],
   "source": [
    "result5 = db.Customer.aggregate([{ \"$group\": { \"_id\": \"null\", \"TotalDue\": { \"$sum\": \"$TotalDue\" }}}])\n",
    "for doc in result5:\n",
    "    print(doc)"
   ]
  },
  {
   "cell_type": "code",
   "execution_count": null,
   "id": "a923526b-ccc6-4b15-8e3c-14fda3938242",
   "metadata": {},
   "outputs": [],
   "source": []
  }
 ],
 "metadata": {
  "kernelspec": {
   "display_name": "Python 3 (ipykernel)",
   "language": "python",
   "name": "python3"
  },
  "language_info": {
   "codemirror_mode": {
    "name": "ipython",
    "version": 3
   },
   "file_extension": ".py",
   "mimetype": "text/x-python",
   "name": "python",
   "nbconvert_exporter": "python",
   "pygments_lexer": "ipython3",
   "version": "3.12.4"
  }
 },
 "nbformat": 4,
 "nbformat_minor": 5
}
